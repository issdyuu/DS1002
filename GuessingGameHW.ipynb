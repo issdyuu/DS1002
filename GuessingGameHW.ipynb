{
  "nbformat": 4,
  "nbformat_minor": 0,
  "metadata": {
    "colab": {
      "provenance": [],
      "authorship_tag": "ABX9TyNVl5BRWH3xsvd+gGtHxnOI",
      "include_colab_link": true
    },
    "kernelspec": {
      "name": "python3",
      "display_name": "Python 3"
    },
    "language_info": {
      "name": "python"
    }
  },
  "cells": [
    {
      "cell_type": "markdown",
      "metadata": {
        "id": "view-in-github",
        "colab_type": "text"
      },
      "source": [
        "<a href=\"https://colab.research.google.com/github/issdyuu/DS1002/blob/main/GuessingGameHW.ipynb\" target=\"_parent\"><img src=\"https://colab.research.google.com/assets/colab-badge.svg\" alt=\"Open In Colab\"/></a>"
      ]
    },
    {
      "cell_type": "code",
      "execution_count": 2,
      "metadata": {
        "colab": {
          "base_uri": "https://localhost:8080/"
        },
        "id": "K0e3_Lk5qgSM",
        "outputId": "b53b5eb1-d183-4b69-a731-7fdb4947441e"
      },
      "outputs": [
        {
          "output_type": "stream",
          "name": "stdout",
          "text": [
            "We are going to play a game! Guess a number between 1-100.\n",
            "test\n",
            "guess an integer\n",
            "e\n",
            "guess an integer\n",
            "pi\n",
            "guess an integer\n",
            "4.3\n",
            "guess an integer\n",
            "4\n",
            "Your number is too low!\n",
            "100000\n",
            "Your number is too high!\n",
            "-563\n",
            "Your number is too low!\n",
            "76\n",
            "Your number is too high!\n",
            "21\n",
            "Your number is too low!\n",
            "53\n",
            "Your number is too low!\n",
            "69\n",
            "Your number is too low!\n",
            "72\n",
            "Your number is too high!\n",
            "71\n",
            "Your number is too high!\n",
            "70\n",
            "u got it\n"
          ]
        }
      ],
      "source": [
        "#This assignment took me about 1.5 hours to complete\n",
        "print(\"We are going to play a game! Guess a number between 1-100.\")\n",
        "import numpy as np\n",
        "number = np.random.randint(1,100)\n",
        "\n",
        "def guess_num(num):\n",
        "  while True:\n",
        "    userguess = input()\n",
        "    try:\n",
        "      userguess = int(userguess)\n",
        "      if userguess > num:\n",
        "        print(\"Your number is too high!\")\n",
        "      elif userguess < num:\n",
        "        print(\"Your number is too low!\")\n",
        "      else:\n",
        "        print('u got it')\n",
        "        return\n",
        "    except:\n",
        "      print('guess an integer')\n",
        "\n",
        "guess_num(number)"
      ]
    },
    {
      "cell_type": "code",
      "source": [],
      "metadata": {
        "id": "1Jhl34cLL7R0"
      },
      "execution_count": null,
      "outputs": []
    }
  ]
}